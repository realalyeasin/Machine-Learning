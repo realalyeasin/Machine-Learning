{
  "nbformat": 4,
  "nbformat_minor": 0,
  "metadata": {
    "colab": {
      "name": "🔠Basic Text Classification ⚙️ || CNN.ipynb",
      "provenance": [],
      "collapsed_sections": [],
      "authorship_tag": "ABX9TyM1+5NrRxuPSAcU3YHGBS84",
      "include_colab_link": true
    },
    "kernelspec": {
      "name": "python3",
      "display_name": "Python 3"
    },
    "language_info": {
      "name": "python"
    }
  },
  "cells": [
    {
      "cell_type": "markdown",
      "metadata": {
        "id": "view-in-github",
        "colab_type": "text"
      },
      "source": [
        "<a href=\"https://colab.research.google.com/github/realalyeasin/Machine-Learning/blob/main/%F0%9F%94%A0Basic_Text_Classification_%E2%9A%99%EF%B8%8F_%7C%7C_CNN.ipynb\" target=\"_parent\"><img src=\"https://colab.research.google.com/assets/colab-badge.svg\" alt=\"Open In Colab\"/></a>"
      ]
    },
    {
      "cell_type": "code",
      "metadata": {
        "id": "G-1FM1lp2Wsj"
      },
      "source": [
        "import matplotlib.pyplot as plt\n",
        "import os\n",
        "import re\n",
        "import string\n",
        "import shutil\n",
        "import tensorflow as tf\n",
        "\n",
        "from tensorflow.keras import losses, layers, preprocessing\n",
        "from tensorflow.keras.layers.experimental.preprocessing import TextVectorization"
      ],
      "execution_count": 2,
      "outputs": []
    },
    {
      "cell_type": "code",
      "metadata": {
        "colab": {
          "base_uri": "https://localhost:8080/"
        },
        "id": "LBT8YUiC3VZR",
        "outputId": "ea873e51-8e56-4a37-d062-56e7243279af"
      },
      "source": [
        "print(tf.__version__)"
      ],
      "execution_count": 3,
      "outputs": [
        {
          "output_type": "stream",
          "text": [
            "2.5.0\n"
          ],
          "name": "stdout"
        }
      ]
    },
    {
      "cell_type": "code",
      "metadata": {
        "colab": {
          "base_uri": "https://localhost:8080/"
        },
        "id": "yp43MbqM4Fk2",
        "outputId": "f9dc9ed5-1725-4c4f-a988-ee4f8accd682"
      },
      "source": [
        "url = \"https://ai.stanford.edu/~amaas/data/sentiment/aclImdb_v1.tar.gz\"\n",
        "dataset = tf.keras.utils.get_file(\"aclImdb_v1\",\n",
        "                                  origin = url,\n",
        "                                  untar = True,\n",
        "                                  cache_subdir='',\n",
        "                                  cache_dir = \".\")\n",
        "dataset_dir = os.path.join(os.path.dirname(dataset), 'aclImdb')"
      ],
      "execution_count": 5,
      "outputs": [
        {
          "output_type": "stream",
          "text": [
            "Downloading data from https://ai.stanford.edu/~amaas/data/sentiment/aclImdb_v1.tar.gz\n",
            "84131840/84125825 [==============================] - 5s 0us/step\n"
          ],
          "name": "stdout"
        }
      ]
    },
    {
      "cell_type": "code",
      "metadata": {
        "colab": {
          "base_uri": "https://localhost:8080/"
        },
        "id": "GT7aiVNU8r8T",
        "outputId": "2585eee3-1ec7-458e-c8f0-605f759f862b"
      },
      "source": [
        "os.listdir(dataset_dir)"
      ],
      "execution_count": 6,
      "outputs": [
        {
          "output_type": "execute_result",
          "data": {
            "text/plain": [
              "['imdb.vocab', 'train', 'README', 'test', 'imdbEr.txt']"
            ]
          },
          "metadata": {
            "tags": []
          },
          "execution_count": 6
        }
      ]
    },
    {
      "cell_type": "code",
      "metadata": {
        "colab": {
          "base_uri": "https://localhost:8080/"
        },
        "id": "i7v6Cmsv9gEr",
        "outputId": "3b8cc753-633f-4556-8db9-ac79140bd0ce"
      },
      "source": [
        "train_dir = os.path.join(dataset_dir, 'train')\n",
        "os.listdir(train_dir)"
      ],
      "execution_count": 7,
      "outputs": [
        {
          "output_type": "execute_result",
          "data": {
            "text/plain": [
              "['urls_pos.txt',\n",
              " 'unsup',\n",
              " 'urls_neg.txt',\n",
              " 'labeledBow.feat',\n",
              " 'unsupBow.feat',\n",
              " 'neg',\n",
              " 'urls_unsup.txt',\n",
              " 'pos']"
            ]
          },
          "metadata": {
            "tags": []
          },
          "execution_count": 7
        }
      ]
    },
    {
      "cell_type": "code",
      "metadata": {
        "colab": {
          "base_uri": "https://localhost:8080/"
        },
        "id": "tmCcBi3H9tbF",
        "outputId": "5742ecba-75ed-4fb8-fa15-ff6e75adaa0f"
      },
      "source": [
        "sample_file = os.path.join(train_dir, 'pos/1181_9.txt')\n",
        "with open(sample_file) as f:\n",
        "  print(f.read())"
      ],
      "execution_count": 14,
      "outputs": [
        {
          "output_type": "stream",
          "text": [
            "Rachel Griffiths writes and directs this award winning short film. A heartwarming story about coping with grief and cherishing the memory of those we've loved and lost. Although, only 15 minutes long, Griffiths manages to capture so much emotion and truth onto film in the short space of time. Bud Tingwell gives a touching performance as Will, a widower struggling to cope with his wife's death. Will is confronted by the harsh reality of loneliness and helplessness as he proceeds to take care of Ruth's pet cow, Tulip. The film displays the grief and responsibility one feels for those they have loved and lost. Good cinematography, great direction, and superbly acted. It will bring tears to all those who have lost a loved one, and survived.\n"
          ],
          "name": "stdout"
        }
      ]
    },
    {
      "cell_type": "code",
      "metadata": {
        "id": "gYdc2c4f-Duk"
      },
      "source": [
        "remove_dir = os.path.join(train_dir, 'unsup')\n",
        "shutil.rmtree(remove_dir)"
      ],
      "execution_count": 15,
      "outputs": []
    },
    {
      "cell_type": "code",
      "metadata": {
        "colab": {
          "base_uri": "https://localhost:8080/"
        },
        "id": "bnYZMcR9Aam6",
        "outputId": "ed071ac5-edf5-4fdf-af42-f15db05eeece"
      },
      "source": [
        "len(os.listdir(train_dir))"
      ],
      "execution_count": 17,
      "outputs": [
        {
          "output_type": "execute_result",
          "data": {
            "text/plain": [
              "7"
            ]
          },
          "metadata": {
            "tags": []
          },
          "execution_count": 17
        }
      ]
    },
    {
      "cell_type": "code",
      "metadata": {
        "colab": {
          "base_uri": "https://localhost:8080/"
        },
        "id": "27-grgcGAdKt",
        "outputId": "eb7d1a97-a3ba-4896-8cd3-9c50812589d7"
      },
      "source": [
        "batch_size = 30\n",
        "seed = 40\n",
        "\n",
        "raw_train_ds = tf.keras.preprocessing.text_dataset_from_directory('aclImdb/train',\n",
        "                                                                  batch_size = batch_size,\n",
        "                                                                  seed = seed,\n",
        "                                                                  validation_split = 0.2,\n",
        "                                                                  shuffle = True,\n",
        "                                                                  subset = 'training')"
      ],
      "execution_count": 18,
      "outputs": [
        {
          "output_type": "stream",
          "text": [
            "Found 25000 files belonging to 2 classes.\n",
            "Using 20000 files for training.\n"
          ],
          "name": "stdout"
        }
      ]
    },
    {
      "cell_type": "code",
      "metadata": {
        "colab": {
          "base_uri": "https://localhost:8080/"
        },
        "id": "yDzBFpFxCesY",
        "outputId": "d4d8b288-f481-4fdf-c4bd-275aabca81d0"
      },
      "source": [
        "for text_batch, label_batch in raw_train_ds.take(1):\n",
        "  for i in range(3):\n",
        "    print(\"Review : \", text_batch.numpy()[i])\n",
        "    print(\"Label : \", label_batch.numpy()[i])"
      ],
      "execution_count": 19,
      "outputs": [
        {
          "output_type": "stream",
          "text": [
            "Review :  b\"This picture came out in 1975 and it was the second in the three part series of the life of Sheriff Buford Pusser. Bo Svenson takes over the role of Sheriff Buford Pusser, and Luke Askew plays the role of Mobster Pinky Dobson. The last that we saw Sheriff Pusser he was laying in a hospital bed after him and his wife who was killed in ambushed Sunday morning drive. After Pusser recovers he goes after the men that killed his wife. Is Pusser able to complete the revenge that he's after or does the mob try to take him out before he successes. The only thing that bother me about this picture that this was an actual true story. How could you leave in a town with this kind of crime and yet don't do anything about it. Since there was real no name actress in this picture I can't give it 10 weasel stars but I can give 8\"\n",
            "Label :  1\n",
            "Review :  b'I saw the movie with two grown children. Although it was not as clever as Shrek, I thought it was rather good. In a movie theatre surrounded by children who were on spring break, there was not a sound so I know the children all liked it. There parents also seemed engaged. The death and apparent death of characters brought about the appropriate gasps and comments. Hopefully people realize this movie was made for kids. As such, it was successful although I liked it too. Personally I liked the Scrat!!'\n",
            "Label :  1\n",
            "Review :  b\"This film was more effective in persuading me of a Zionist conspiracy than a Muslim one. And I'm Jewish.<br /><br />Anbody go to journalism school? Read an editorial? Freshman year rhetoric? These alarmist assertions, presented in a palatable way, might prove persuasive. But by offering no acknowledgment of possible opposing arguments, nor viable (or any at all) solutions, few sources and each of dubious origin, makes the argument an ineffectual diatribe.<br /><br />And thank goodness for that -- I wouldn't want anyone to leave the theatre BELIEVING any of this racist claptrap.<br /><br />A good lesson for me -- and hopefully a cautionary tale for you -- to actually read about a film before seeing it.\"\n",
            "Label :  0\n"
          ],
          "name": "stdout"
        }
      ]
    },
    {
      "cell_type": "code",
      "metadata": {
        "colab": {
          "base_uri": "https://localhost:8080/"
        },
        "id": "bSVdKDozEQ8E",
        "outputId": "ba17f0df-e095-4091-8eb0-552103605956"
      },
      "source": [
        "print(\"Label 0 :\", raw_train_ds.class_names[0])\n",
        "print(\"Label 1 :\", raw_train_ds.class_names[1])"
      ],
      "execution_count": 22,
      "outputs": [
        {
          "output_type": "stream",
          "text": [
            "Label 0 : neg\n",
            "Label 1 : pos\n"
          ],
          "name": "stdout"
        }
      ]
    },
    {
      "cell_type": "code",
      "metadata": {
        "colab": {
          "base_uri": "https://localhost:8080/"
        },
        "id": "1esDiejnEcJy",
        "outputId": "f42afe2a-d257-4826-a91d-7f2a5dabd1b9"
      },
      "source": [
        "raw_val_ds = tf.keras.preprocessing.text_dataset_from_directory('aclImdb/train',\n",
        "                                                                batch_size = batch_size,\n",
        "                                                                seed = seed,\n",
        "                                                                validation_split = 0.2,\n",
        "                                                                subset = 'validation',\n",
        "                                                                shuffle = True)"
      ],
      "execution_count": 23,
      "outputs": [
        {
          "output_type": "stream",
          "text": [
            "Found 25000 files belonging to 2 classes.\n",
            "Using 5000 files for validation.\n"
          ],
          "name": "stdout"
        }
      ]
    },
    {
      "cell_type": "code",
      "metadata": {
        "colab": {
          "base_uri": "https://localhost:8080/"
        },
        "id": "8cTIZKloFB-t",
        "outputId": "7de0d85e-7edf-453a-9946-538b0b57161a"
      },
      "source": [
        "raw_test_ds = tf.keras.preprocessing.text_dataset_from_directory('aclImdb/test',\n",
        "                                                                 batch_size = batch_size)"
      ],
      "execution_count": 24,
      "outputs": [
        {
          "output_type": "stream",
          "text": [
            "Found 25000 files belonging to 2 classes.\n"
          ],
          "name": "stdout"
        }
      ]
    },
    {
      "cell_type": "code",
      "metadata": {
        "id": "IZXd2TLIFmfQ"
      },
      "source": [
        "def custom_standardization(input_data):\n",
        "  lower_case = tf.strings.lower(input_data)\n",
        "  stripped_html = tf.strings.regex_replace(lower_case, '<br />', ' ')\n",
        "  return tf.strings.regex_replace(stripped_html, '[%s]' % re.escape(string.punctuation),'')"
      ],
      "execution_count": 25,
      "outputs": []
    },
    {
      "cell_type": "code",
      "metadata": {
        "id": "I_TscceFIbC_"
      },
      "source": [
        "max_features = 10000\n",
        "sequence_length = 250\n",
        "\n",
        "vectorize_layer = TextVectorization(standardize = custom_standardization,\n",
        "                                    max_tokens = max_features,\n",
        "                                    output_mode = 'int',\n",
        "                                    output_sequence_length = sequence_length)"
      ],
      "execution_count": 26,
      "outputs": []
    },
    {
      "cell_type": "code",
      "metadata": {
        "id": "UKyy5WElKI3l"
      },
      "source": [
        "train_text = raw_train_ds.map(lambda x,y : x)\n",
        "vectorize_layer.adapt(train_text)"
      ],
      "execution_count": 27,
      "outputs": []
    },
    {
      "cell_type": "code",
      "metadata": {
        "id": "VyuFcUe3Jv8c"
      },
      "source": [
        "def vectorize_text(text, label):\n",
        "  text = tf.expand_dims(text, -1)\n",
        "  return vectorize_layer(text), label"
      ],
      "execution_count": 28,
      "outputs": []
    },
    {
      "cell_type": "code",
      "metadata": {
        "colab": {
          "base_uri": "https://localhost:8080/"
        },
        "id": "OHdU7AmZK8bK",
        "outputId": "dfa19b25-9d8a-4591-a2ed-ee263ce5046e"
      },
      "source": [
        "text_batch, label_batch = next(iter(raw_train_ds))\n",
        "first_review, first_label = text_batch[0], label_batch[0]\n",
        "print(\"First Review : \", first_review)\n",
        "print(\"First Label : \", raw_train_ds.class_names[first_label])\n",
        "print(\"Vectorized Review : \", vectorize_text(first_review, first_label))"
      ],
      "execution_count": 32,
      "outputs": [
        {
          "output_type": "stream",
          "text": [
            "First Review :  tf.Tensor(b\"A year after losing gorgeous Jane Parker (Maureen O'Sullivan) to love rival Tarzan, hunter Harry Holt (Neil Hamilton) returns to the jungle to have another bash at winning the brunette babe's heart. Mixing business with pleasure, he also plans to grab himself some ivory from the elephant graveyard that lies beyond the Mutia escarpment, Tarzan's stomping ground.<br /><br />Accompanied by his slimy, womanising pal Martin Arlington and a group of expendable bearers, Harry finally arrives at his destination (having narrowly avoided death at the hands of savage natives and rock-hurling apes) only to find that Jane is still infatuated with her musclebound yodeller, and worse still, that Tarzan is refusing to let the hunters take any ivory from the graveyard.<br /><br />Nasty Arlington decides to resolve matters by ambushing and shooting the ape-man and then telling Jane and Holt that Tarzan was attacked and eaten by a crocodile. Of course, Tarzan isn't dead\\xc2\\x97only wounded; after being nursed back to health by Cheetah (!), he swings back into action just in time to rescue Jane from a tribe of vicious lion-eating savages who have attacked Holt's expedition.<br /><br />Tarzan And His Mate, the second movie to star Weismuller as the jungle man of few words, is often cited by fans as the best of the series; although I slightly prefer the original, I can definitely understand the film's popularity: it's damn sexy and there are some great action sequences! The undeniable chemistry between Weismuller and O'Sullivan is fabulous and leads to some pretty steamy scenes, and with both stars wearing eensy-weensy outfits throughout, there's eye-candy aplenty for viewers of both sexes to enjoy (despite O'Sullivan's much-touted underwater nude scene actually being performed by a body double, the lovely lass still shows plenty of skin, even threatening to do a 'Sharon Stone' at one point as her loin cloth flaps to one side!).<br /><br />The film's most exciting moments come in the form of a wonderful underwater fight between Tarzan and a crocodile, and the spectacular final\\xc3\\xa9 where Jane is attacked by lions and natives, but is rescued by her beau, his monkey pals, and a load of elephants in full-on lion-crushing mode (once again, the violence is surprisingly nasty at times, although as far as I am concerned, there is nothing quite as shocking as the vicious pygmies and their gorilla pit from the first film). Cheetah also has his fair share of excitement, dodging rhinos, crocs, and big cats, riding on Tarzan's back as he crosses a river, and even hopping onto an ostrich for a ride.<br /><br />Like it's predecessor, Tarzan And His Mate does suffer slightly from some bad effects and unconvincing props\\xc2\\x97dodgy back projection, a few laughable monkey suits, more Indian elephants masquerading as their African cousins, and poorly disguised trapeze swings\\xc2\\x97but these shouldn't spoil your enjoyment of this very entertaining film. If anything, they make it even more fun!<br /><br />8.5 out of 10, rounded up to 9 for IMDb.\", shape=(), dtype=string)\n",
            "First Label :  pos\n",
            "Vectorized Review :  (<tf.Tensor: shape=(1, 250), dtype=int64, numpy=\n",
            "array([[   3,  333,  100, 2158, 1451,  988, 2121, 7252, 9589,    6,  115,\n",
            "        2942, 1988, 2151, 1264, 8497, 4016, 4706, 1635,    6,    2, 2672,\n",
            "           6,   25,  153, 8985,   30, 1737,    2, 8196, 8755,  504, 5798,\n",
            "         959,   16, 1758,   27,   81, 2423,    6, 3982,  301,   46,    1,\n",
            "          35,    2, 4448, 7023,   12, 1736,  701,    2,    1,    1,    1,\n",
            "           1, 1583, 4187,   32,   24, 5270,    1, 5416, 1582,    1,    4,\n",
            "           3,  581,    5,    1,    1, 1264,  398, 2837,   30,   24, 7041,\n",
            "         254,    1, 4079,  335,   30,    2,  972,    5, 3968, 5865,    4,\n",
            "           1, 4037,   61,    6,  160,   12,  988,    7,  125,    1,   16,\n",
            "          39,    1,    1,    4,  422,  125,   12, 1988,    7,    1,    6,\n",
            "         380,    2, 4139,  188,   98,    1,   35,    2, 7023, 1580,    1,\n",
            "        1068,    6, 7785, 2263,   32,    1,    4, 1180,    2,    1,    4,\n",
            "          91, 1013,  988,    4, 8497,   12, 1988,   13, 2820,    4, 4543,\n",
            "          32,    3, 4097,    5,  261, 1988,  204,    1, 5391,  100,  108,\n",
            "           1,  141,    6, 3190,   32,    1,   27,    1,  141,   77,  213,\n",
            "          41,    8,   59,    6, 2150,  988,   35,    3, 4881,    5, 3960,\n",
            "           1,    1,   36,   25, 2820,    1, 5372, 1988,    4,   24, 3933,\n",
            "           2,  330,   17,    6,  328,    1,   14,    2, 2672,  132,    5,\n",
            "         163,  680,    7,  383,    1,   32,  429,   14,    2,  113,    5,\n",
            "           2,  197,  252,   10, 1035, 2844,    2,  191,   10,   68,  393,\n",
            "         376,    2,   96, 5141,   29, 1516, 1267,    4,   47,   23,   46,\n",
            "          84,  213,  808,    2,    1, 1135,  193,    1,    4, 9589,    7,\n",
            "        2579,    4,  776,    6,   46,  178,    1,  135]])>, <tf.Tensor: shape=(), dtype=int32, numpy=1>)\n"
          ],
          "name": "stdout"
        }
      ]
    },
    {
      "cell_type": "code",
      "metadata": {
        "id": "gIsTDpJCL4ST"
      },
      "source": [
        "train_ds = raw_train_ds.map(vectorize_text)\n",
        "test_ds = raw_test_ds.map(vectorize_text)\n",
        "val_ds = raw_val_ds.map(vectorize_text)"
      ],
      "execution_count": 33,
      "outputs": []
    },
    {
      "cell_type": "code",
      "metadata": {
        "id": "iQ1FOBlnMiTd"
      },
      "source": [
        "AUTOTUNE = tf.data.AUTOTUNE\n",
        "\n",
        "train_ds = train_ds.cache().prefetch(buffer_size=AUTOTUNE)\n",
        "val_ds = val_ds.cache().prefetch(buffer_size=AUTOTUNE)\n",
        "test_ds = test_ds.cache().prefetch(buffer_size=AUTOTUNE)"
      ],
      "execution_count": 35,
      "outputs": []
    },
    {
      "cell_type": "code",
      "metadata": {
        "id": "BcdZ3qq_NYkU"
      },
      "source": [
        "embedding_dim = 16"
      ],
      "execution_count": 36,
      "outputs": []
    },
    {
      "cell_type": "code",
      "metadata": {
        "colab": {
          "base_uri": "https://localhost:8080/"
        },
        "id": "gwdaimwWNg-8",
        "outputId": "fb329d45-e02a-4938-ffeb-7db95d566e8b"
      },
      "source": [
        "model = tf.keras.Sequential([\n",
        "                             layers.Embedding(max_features+1, embedding_dim),\n",
        "                             layers.Dropout(0.2),\n",
        "                             layers.GlobalAveragePooling1D(),\n",
        "                             layers.Dropout(0.2),\n",
        "                             layers.Dense(1)\n",
        "])\n",
        "model.summary()"
      ],
      "execution_count": 38,
      "outputs": [
        {
          "output_type": "stream",
          "text": [
            "Model: \"sequential_1\"\n",
            "_________________________________________________________________\n",
            "Layer (type)                 Output Shape              Param #   \n",
            "=================================================================\n",
            "embedding_1 (Embedding)      (None, None, 16)          160016    \n",
            "_________________________________________________________________\n",
            "dropout_2 (Dropout)          (None, None, 16)          0         \n",
            "_________________________________________________________________\n",
            "global_average_pooling1d_1 ( (None, 16)                0         \n",
            "_________________________________________________________________\n",
            "dropout_3 (Dropout)          (None, 16)                0         \n",
            "_________________________________________________________________\n",
            "dense_1 (Dense)              (None, 1)                 17        \n",
            "=================================================================\n",
            "Total params: 160,033\n",
            "Trainable params: 160,033\n",
            "Non-trainable params: 0\n",
            "_________________________________________________________________\n"
          ],
          "name": "stdout"
        }
      ]
    },
    {
      "cell_type": "code",
      "metadata": {
        "id": "7NdoMd3YOa4Z"
      },
      "source": [
        "model.compile(optimizer='adam',\n",
        "              loss = tf.keras.losses.BinaryCrossentropy(from_logits=True),\n",
        "              metrics=['accuracy'])"
      ],
      "execution_count": 39,
      "outputs": []
    },
    {
      "cell_type": "code",
      "metadata": {
        "colab": {
          "base_uri": "https://localhost:8080/"
        },
        "id": "DIVQK0MjO87i",
        "outputId": "d17095f2-69cf-4f60-8d6b-f1f5ee056fef"
      },
      "source": [
        "epochs =10\n",
        "history = model.fit(train_ds,\n",
        "                    validation_data = val_ds,\n",
        "                    epochs = epochs)"
      ],
      "execution_count": 40,
      "outputs": [
        {
          "output_type": "stream",
          "text": [
            "Epoch 1/10\n",
            "667/667 [==============================] - 13s 18ms/step - loss: 0.6614 - accuracy: 0.5077 - val_loss: 0.6060 - val_accuracy: 0.5754\n",
            "Epoch 2/10\n",
            "667/667 [==============================] - 5s 7ms/step - loss: 0.5392 - accuracy: 0.6772 - val_loss: 0.4839 - val_accuracy: 0.7744\n",
            "Epoch 3/10\n",
            "667/667 [==============================] - 5s 7ms/step - loss: 0.4350 - accuracy: 0.8009 - val_loss: 0.4073 - val_accuracy: 0.8246\n",
            "Epoch 4/10\n",
            "667/667 [==============================] - 5s 7ms/step - loss: 0.3693 - accuracy: 0.8461 - val_loss: 0.3634 - val_accuracy: 0.8478\n",
            "Epoch 5/10\n",
            "667/667 [==============================] - 5s 7ms/step - loss: 0.3276 - accuracy: 0.8650 - val_loss: 0.3366 - val_accuracy: 0.8586\n",
            "Epoch 6/10\n",
            "667/667 [==============================] - 5s 7ms/step - loss: 0.2981 - accuracy: 0.8794 - val_loss: 0.3189 - val_accuracy: 0.8668\n",
            "Epoch 7/10\n",
            "667/667 [==============================] - 5s 7ms/step - loss: 0.2748 - accuracy: 0.8897 - val_loss: 0.3068 - val_accuracy: 0.8728\n",
            "Epoch 8/10\n",
            "667/667 [==============================] - 5s 7ms/step - loss: 0.2561 - accuracy: 0.8963 - val_loss: 0.2983 - val_accuracy: 0.8772\n",
            "Epoch 9/10\n",
            "667/667 [==============================] - 5s 7ms/step - loss: 0.2401 - accuracy: 0.9053 - val_loss: 0.2924 - val_accuracy: 0.8796\n",
            "Epoch 10/10\n",
            "667/667 [==============================] - 5s 8ms/step - loss: 0.2253 - accuracy: 0.9107 - val_loss: 0.2888 - val_accuracy: 0.8830\n"
          ],
          "name": "stdout"
        }
      ]
    },
    {
      "cell_type": "code",
      "metadata": {
        "colab": {
          "base_uri": "https://localhost:8080/"
        },
        "id": "Y-eml8WxPWHS",
        "outputId": "a9c107ac-da85-42ac-ae68-df4fee6b3be7"
      },
      "source": [
        "loss, accuracy = model.evaluate(test_ds)\n",
        "print(\"Loss :\", loss)\n",
        "print(\"Accuracy :\", accuracy) "
      ],
      "execution_count": 41,
      "outputs": [
        {
          "output_type": "stream",
          "text": [
            "834/834 [==============================] - 11s 13ms/step - loss: 0.3107 - accuracy: 0.8646\n",
            "Loss : 0.31066474318504333\n",
            "Accuracy : 0.8646000027656555\n"
          ],
          "name": "stdout"
        }
      ]
    },
    {
      "cell_type": "code",
      "metadata": {
        "colab": {
          "base_uri": "https://localhost:8080/"
        },
        "id": "QwFbGVZiPkT9",
        "outputId": "dbcc5c6a-cbea-44f4-d998-3a5dfd1a498c"
      },
      "source": [
        "history_dict = history.history\n",
        "history_dict.keys()"
      ],
      "execution_count": 42,
      "outputs": [
        {
          "output_type": "execute_result",
          "data": {
            "text/plain": [
              "dict_keys(['loss', 'accuracy', 'val_loss', 'val_accuracy'])"
            ]
          },
          "metadata": {
            "tags": []
          },
          "execution_count": 42
        }
      ]
    },
    {
      "cell_type": "code",
      "metadata": {
        "colab": {
          "base_uri": "https://localhost:8080/",
          "height": 313
        },
        "id": "Zlf4ADP8P309",
        "outputId": "20291d4a-b725-46e9-f9f8-1988d99ef516"
      },
      "source": [
        "acc = history_dict['accuracy']\n",
        "val_acc = history_dict['val_accuracy']\n",
        "\n",
        "loss = history_dict['loss']\n",
        "val_loss = history_dict['val_loss']\n",
        "\n",
        "epochs = range(1, len(acc)+1)\n",
        "\n",
        "plt.plot(epochs, loss, 'bo', label='Training Loss')\n",
        "plt.plot(epochs, val_loss, 'b', label='Validation Loss')\n",
        "plt.title(\"Training vs Validation Loss\")\n",
        "plt.xlabel(\"Epochs\")\n",
        "plt.ylabel(\"Loss\")\n",
        "plt.legend()"
      ],
      "execution_count": 45,
      "outputs": [
        {
          "output_type": "execute_result",
          "data": {
            "text/plain": [
              "<matplotlib.legend.Legend at 0x7f9871591350>"
            ]
          },
          "metadata": {
            "tags": []
          },
          "execution_count": 45
        },
        {
          "output_type": "display_data",
          "data": {
            "image/png": "[encoded data removed]",
            "text/plain": [
              "<Figure size 432x288 with 1 Axes>"
            ]
          },
          "metadata": {
            "tags": [],
            "needs_background": "light"
          }
        }
      ]
    },
    {
      "cell_type": "code",
      "metadata": {
        "colab": {
          "base_uri": "https://localhost:8080/",
          "height": 313
        },
        "id": "vJ0p_mLISkNb",
        "outputId": "a5a67ff1-3be0-4333-f079-83c1593fe9bf"
      },
      "source": [
        "plt.plot(epochs, acc, 'bo', label='Accuracy')\n",
        "plt.plot(epochs, val_acc, 'b', label='Validation Accuracy')\n",
        "plt.title(\"Training vs Validation Accuracy\")\n",
        "plt.xlabel(\"Epochs\")\n",
        "plt.ylabel(\"Accuracy\")\n",
        "plt.legend()"
      ],
      "execution_count": 46,
      "outputs": [
        {
          "output_type": "execute_result",
          "data": {
            "text/plain": [
              "<matplotlib.legend.Legend at 0x7f98738bcd10>"
            ]
          },
          "metadata": {
            "tags": []
          },
          "execution_count": 46
        },
        {
          "output_type": "display_data",
          "data": {
            "image/png": "[encoded data removed]",
            "text/plain": [
              "<Figure size 432x288 with 1 Axes>"
            ]
          },
          "metadata": {
            "tags": [],
            "needs_background": "light"
          }
        }
      ]
    }
  ]
}